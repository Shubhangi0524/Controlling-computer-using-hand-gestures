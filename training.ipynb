{
 "cells": [
  {
   "cell_type": "code",
   "execution_count": 2,
   "id": "6d3887d9",
   "metadata": {},
   "outputs": [],
   "source": [
    "from tensorflow.keras.layers import Input, Lambda, Dense, Flatten,Dropout\n",
    "from tensorflow.keras.models import Model\n",
    "from tensorflow.keras.applications.vgg19 import VGG19\n",
    "from tensorflow.keras.applications.vgg19 import preprocess_input\n",
    "from tensorflow.keras.preprocessing import image\n",
    "from tensorflow.keras.preprocessing.image import ImageDataGenerator\n",
    "from tensorflow.keras.models import Sequential\n",
    "import numpy as np\n",
    "import pandas as pd\n",
    "import os\n",
    "import cv2\n",
    "import matplotlib.pyplot as plt"
   ]
  },
  {
   "cell_type": "code",
   "execution_count": 3,
   "id": "8639d4a2",
   "metadata": {},
   "outputs": [],
   "source": [
    "train_path=\"C:\\\\Users\\\\sjkadam\\\\MY_FINAL_PROJECT\\\\MyImages\\\\train\"\n",
    "test_path=\"C:\\\\Users\\\\sjkadam\\\\MY_FINAL_PROJECT\\\\MyImages\\\\test\"\n",
    "val_path=\"C:\\\\Users\\\\sjkadam\\\\MY_FINAL_PROJECT\\\\MyImages\\\\valid\""
   ]
  },
  {
   "cell_type": "code",
   "execution_count": 4,
   "id": "4b1b65ac",
   "metadata": {},
   "outputs": [],
   "source": [
    "x_train=[]\n",
    "\n",
    "for folder in os.listdir(train_path):\n",
    "\n",
    "    sub_path=train_path+\"/\"+folder\n",
    "\n",
    "    for img in os.listdir(sub_path):\n",
    "\n",
    "        image_path=sub_path+\"/\"+img\n",
    "\n",
    "        img_arr=cv2.imread(image_path)\n",
    "\n",
    "        img_arr=cv2.resize(img_arr,(224,224))\n",
    "\n",
    "        x_train.append(img_arr)"
   ]
  },
  {
   "cell_type": "code",
   "execution_count": 5,
   "id": "eccce21a",
   "metadata": {},
   "outputs": [],
   "source": [
    "x_test=[]\n",
    "\n",
    "for folder in os.listdir(test_path):\n",
    "\n",
    "    sub_path=test_path+\"/\"+folder\n",
    "\n",
    "    for img in os.listdir(sub_path):\n",
    "\n",
    "        image_path=sub_path+\"/\"+img\n",
    "\n",
    "        img_arr=cv2.imread(image_path)\n",
    "\n",
    "        img_arr=cv2.resize(img_arr,(224,224))\n",
    "\n",
    "        x_test.append(img_arr)"
   ]
  },
  {
   "cell_type": "code",
   "execution_count": 6,
   "id": "6ae5873e",
   "metadata": {},
   "outputs": [],
   "source": [
    "x_val=[]\n",
    "\n",
    "for folder in os.listdir(val_path):\n",
    "\n",
    "    sub_path=val_path+\"/\"+folder\n",
    "\n",
    "    for img in os.listdir(sub_path):\n",
    "\n",
    "        image_path=sub_path+\"/\"+img\n",
    "\n",
    "        img_arr=cv2.imread(image_path)\n",
    "\n",
    "        img_arr=cv2.resize(img_arr,(224,224))\n",
    "\n",
    "        x_val.append(img_arr)"
   ]
  },
  {
   "cell_type": "code",
   "execution_count": 7,
   "id": "4d11673a",
   "metadata": {},
   "outputs": [],
   "source": [
    "train_x=np.array(x_train)\n",
    "test_x=np.array(x_test)\n",
    "val_x=np.array(x_val)"
   ]
  },
  {
   "cell_type": "code",
   "execution_count": 8,
   "id": "e15fa155",
   "metadata": {},
   "outputs": [],
   "source": [
    "train_x=train_x/255.0\n",
    "test_x=test_x/255.0\n",
    "val_x=val_x/255.0\n"
   ]
  },
  {
   "cell_type": "code",
   "execution_count": 9,
   "id": "e94b581a",
   "metadata": {},
   "outputs": [],
   "source": [
    "train_datagen = ImageDataGenerator(rescale = 1./255)\n",
    "test_datagen = ImageDataGenerator(rescale = 1./255)\n",
    "val_datagen = ImageDataGenerator(rescale = 1./255)"
   ]
  },
  {
   "cell_type": "code",
   "execution_count": 12,
   "id": "3407020a",
   "metadata": {},
   "outputs": [
    {
     "name": "stdout",
     "output_type": "stream",
     "text": [
      "Found 3000 images belonging to 10 classes.\n",
      "Found 2000 images belonging to 10 classes.\n",
      "Found 500 images belonging to 10 classes.\n"
     ]
    }
   ],
   "source": [
    "training_set = train_datagen.flow_from_directory(train_path,\n",
    "                                                 target_size = (224, 224),\n",
    "                                                 batch_size = 32,\n",
    "                                                 class_mode = 'categorical')\n",
    "test_set = test_datagen.flow_from_directory(test_path,\n",
    "                                            target_size = (224, 224),\n",
    "                                            batch_size = 32,\n",
    "                                            class_mode = 'categorical')\n",
    "val_set = val_datagen.flow_from_directory(val_path,\n",
    "                                            target_size = (224, 224),\n",
    "                                            batch_size = 32,\n",
    "                                            class_mode = 'categorical')"
   ]
  },
  {
   "cell_type": "code",
   "execution_count": 13,
   "id": "e510e866",
   "metadata": {},
   "outputs": [],
   "source": [
    "train_y=training_set.classes\n",
    "test_y=test_set.classes\n",
    "val_y=val_set.classes"
   ]
  },
  {
   "cell_type": "code",
   "execution_count": 14,
   "id": "70d5727b",
   "metadata": {},
   "outputs": [
    {
     "data": {
      "text/plain": [
       "{'cross': 0,\n",
       " 'down': 1,\n",
       " 'fist': 2,\n",
       " 'left': 3,\n",
       " 'none': 4,\n",
       " 'palm': 5,\n",
       " 'right': 6,\n",
       " 'scissor': 7,\n",
       " 'up': 8,\n",
       " 'y': 9}"
      ]
     },
     "execution_count": 14,
     "metadata": {},
     "output_type": "execute_result"
    }
   ],
   "source": [
    "training_set.class_indices"
   ]
  },
  {
   "cell_type": "code",
   "execution_count": 15,
   "id": "8744dfa8",
   "metadata": {},
   "outputs": [
    {
     "data": {
      "text/plain": [
       "((3000,), (2000,), (500,))"
      ]
     },
     "execution_count": 15,
     "metadata": {},
     "output_type": "execute_result"
    }
   ],
   "source": [
    "train_y.shape,test_y.shape,val_y.shape"
   ]
  },
  {
   "cell_type": "code",
   "execution_count": 16,
   "id": "dbcf7fe9",
   "metadata": {},
   "outputs": [],
   "source": [
    "vgg = VGG19(input_shape=[224, 224] + [3], weights='imagenet', include_top=False)\n",
    "#do not train the pre-trained layers of VGG-19\n",
    "for layer in vgg.layers:\n",
    "    layer.trainable = False"
   ]
  },
  {
   "cell_type": "code",
   "execution_count": 17,
   "id": "70d8e163",
   "metadata": {},
   "outputs": [],
   "source": [
    "x = Flatten()(vgg.output)"
   ]
  },
  {
   "cell_type": "code",
   "execution_count": 18,
   "id": "f2fb2386",
   "metadata": {},
   "outputs": [],
   "source": [
    "prediction = Dense(10, activation='softmax')(x)\n",
    "\n",
    "model = Model(inputs=vgg.input, outputs=prediction)"
   ]
  },
  {
   "cell_type": "code",
   "execution_count": 19,
   "id": "9d595a92",
   "metadata": {},
   "outputs": [
    {
     "name": "stdout",
     "output_type": "stream",
     "text": [
      "Model: \"model\"\n",
      "_________________________________________________________________\n",
      " Layer (type)                Output Shape              Param #   \n",
      "=================================================================\n",
      " input_1 (InputLayer)        [(None, 224, 224, 3)]     0         \n",
      "                                                                 \n",
      " block1_conv1 (Conv2D)       (None, 224, 224, 64)      1792      \n",
      "                                                                 \n",
      " block1_conv2 (Conv2D)       (None, 224, 224, 64)      36928     \n",
      "                                                                 \n",
      " block1_pool (MaxPooling2D)  (None, 112, 112, 64)      0         \n",
      "                                                                 \n",
      " block2_conv1 (Conv2D)       (None, 112, 112, 128)     73856     \n",
      "                                                                 \n",
      " block2_conv2 (Conv2D)       (None, 112, 112, 128)     147584    \n",
      "                                                                 \n",
      " block2_pool (MaxPooling2D)  (None, 56, 56, 128)       0         \n",
      "                                                                 \n",
      " block3_conv1 (Conv2D)       (None, 56, 56, 256)       295168    \n",
      "                                                                 \n",
      " block3_conv2 (Conv2D)       (None, 56, 56, 256)       590080    \n",
      "                                                                 \n",
      " block3_conv3 (Conv2D)       (None, 56, 56, 256)       590080    \n",
      "                                                                 \n",
      " block3_conv4 (Conv2D)       (None, 56, 56, 256)       590080    \n",
      "                                                                 \n",
      " block3_pool (MaxPooling2D)  (None, 28, 28, 256)       0         \n",
      "                                                                 \n",
      " block4_conv1 (Conv2D)       (None, 28, 28, 512)       1180160   \n",
      "                                                                 \n",
      " block4_conv2 (Conv2D)       (None, 28, 28, 512)       2359808   \n",
      "                                                                 \n",
      " block4_conv3 (Conv2D)       (None, 28, 28, 512)       2359808   \n",
      "                                                                 \n",
      " block4_conv4 (Conv2D)       (None, 28, 28, 512)       2359808   \n",
      "                                                                 \n",
      " block4_pool (MaxPooling2D)  (None, 14, 14, 512)       0         \n",
      "                                                                 \n",
      " block5_conv1 (Conv2D)       (None, 14, 14, 512)       2359808   \n",
      "                                                                 \n",
      " block5_conv2 (Conv2D)       (None, 14, 14, 512)       2359808   \n",
      "                                                                 \n",
      " block5_conv3 (Conv2D)       (None, 14, 14, 512)       2359808   \n",
      "                                                                 \n",
      " block5_conv4 (Conv2D)       (None, 14, 14, 512)       2359808   \n",
      "                                                                 \n",
      " block5_pool (MaxPooling2D)  (None, 7, 7, 512)         0         \n",
      "                                                                 \n",
      " flatten (Flatten)           (None, 25088)             0         \n",
      "                                                                 \n",
      " dense (Dense)               (None, 10)                250890    \n",
      "                                                                 \n",
      "=================================================================\n",
      "Total params: 20,275,274\n",
      "Trainable params: 250,890\n",
      "Non-trainable params: 20,024,384\n",
      "_________________________________________________________________\n"
     ]
    }
   ],
   "source": [
    "model.summary()"
   ]
  },
  {
   "cell_type": "code",
   "execution_count": 23,
   "id": "712ea01e",
   "metadata": {},
   "outputs": [],
   "source": [
    "model.compile(\n",
    "  loss='sparse_categorical_crossentropy',\n",
    "  optimizer=\"adam\",\n",
    "  metrics=['accuracy']\n",
    ")"
   ]
  },
  {
   "cell_type": "code",
   "execution_count": 24,
   "id": "c0bb82da",
   "metadata": {},
   "outputs": [],
   "source": [
    "from tensorflow.keras.callbacks import EarlyStopping\n",
    "early_stop=EarlyStopping(monitor='val_loss',mode='min',verbose=1,patience=5)\n",
    "#Early stopping to avoid overfitting of model"
   ]
  },
  {
   "cell_type": "code",
   "execution_count": 25,
   "id": "65f3ec49",
   "metadata": {},
   "outputs": [
    {
     "name": "stdout",
     "output_type": "stream",
     "text": [
      "Epoch 1/10\n",
      "94/94 [==============================] - 555s 6s/step - loss: 0.2327 - accuracy: 0.9387 - val_loss: 1.1630 - val_accuracy: 0.8040\n",
      "Epoch 2/10\n",
      "94/94 [==============================] - 549s 6s/step - loss: 0.0010 - accuracy: 1.0000 - val_loss: 1.1956 - val_accuracy: 0.8040\n",
      "Epoch 3/10\n",
      "94/94 [==============================] - 390s 4s/step - loss: 7.4869e-04 - accuracy: 1.0000 - val_loss: 1.2079 - val_accuracy: 0.8000\n",
      "Epoch 4/10\n",
      "94/94 [==============================] - 374s 4s/step - loss: 5.8440e-04 - accuracy: 1.0000 - val_loss: 1.1787 - val_accuracy: 0.8040\n",
      "Epoch 5/10\n",
      "94/94 [==============================] - 366s 4s/step - loss: 4.7182e-04 - accuracy: 1.0000 - val_loss: 1.1619 - val_accuracy: 0.8040\n",
      "Epoch 6/10\n",
      "94/94 [==============================] - 362s 4s/step - loss: 3.9287e-04 - accuracy: 1.0000 - val_loss: 1.2046 - val_accuracy: 0.8000\n",
      "Epoch 7/10\n",
      "94/94 [==============================] - 362s 4s/step - loss: 3.3081e-04 - accuracy: 1.0000 - val_loss: 1.1952 - val_accuracy: 0.8040\n",
      "Epoch 8/10\n",
      "94/94 [==============================] - 377s 4s/step - loss: 2.8168e-04 - accuracy: 1.0000 - val_loss: 1.1813 - val_accuracy: 0.8040\n",
      "Epoch 9/10\n",
      "94/94 [==============================] - 366s 4s/step - loss: 2.4341e-04 - accuracy: 1.0000 - val_loss: 1.2008 - val_accuracy: 0.8040\n",
      "Epoch 10/10\n",
      "94/94 [==============================] - 361s 4s/step - loss: 2.1212e-04 - accuracy: 1.0000 - val_loss: 1.1862 - val_accuracy: 0.8040\n",
      "Epoch 10: early stopping\n"
     ]
    }
   ],
   "source": [
    "history = model.fit(\n",
    "  train_x,\n",
    "  train_y,\n",
    "  validation_data=(val_x,val_y),\n",
    "  epochs=10,\n",
    "  callbacks=[early_stop],\n",
    "  batch_size=32,shuffle=True)"
   ]
  },
  {
   "cell_type": "code",
   "execution_count": 26,
   "id": "6698bf8d",
   "metadata": {},
   "outputs": [],
   "source": [
    "model.save(\"C:\\\\Users\\\\sjkadam\\\\MY_FINAL_PROJECT\\\\handgesturemodel.h5\")"
   ]
  },
  {
   "cell_type": "code",
   "execution_count": 27,
   "id": "aba8f3ab",
   "metadata": {},
   "outputs": [
    {
     "data": {
      "image/png": "[encoded data removed]",
      "text/plain": [
       "<Figure size 432x288 with 1 Axes>"
      ]
     },
     "metadata": {
      "needs_background": "light"
     },
     "output_type": "display_data"
    }
   ],
   "source": [
    "plt.plot(history.history['accuracy'], label='train acc')\n",
    "\n",
    "plt.plot(history.history['val_accuracy'], label='val acc')\n",
    "\n",
    "plt.legend()\n",
    "\n",
    "plt.savefig('vgg-acc-rps-1.png')\n",
    "\n",
    "plt.show()"
   ]
  },
  {
   "cell_type": "code",
   "execution_count": 28,
   "id": "ca1539fd",
   "metadata": {},
   "outputs": [
    {
     "data": {
      "image/png": "[encoded data removed]",
      "text/plain": [
       "<Figure size 432x288 with 1 Axes>"
      ]
     },
     "metadata": {
      "needs_background": "light"
     },
     "output_type": "display_data"
    }
   ],
   "source": [
    "plt.plot(history.history['loss'], label='train loss')\n",
    "plt.plot(history.history['val_loss'], label='val loss')\n",
    "plt.legend()\n",
    "plt.savefig('vgg-loss-rps-1.png')\n",
    "plt.show()"
   ]
  },
  {
   "cell_type": "code",
   "execution_count": 29,
   "id": "3ea1c14b",
   "metadata": {},
   "outputs": [
    {
     "name": "stdout",
     "output_type": "stream",
     "text": [
      "63/63 [==============================] - 205s 3s/step - loss: 0.6917 - accuracy: 0.8590\n"
     ]
    },
    {
     "data": {
      "text/plain": [
       "[0.6917262077331543, 0.859000027179718]"
      ]
     },
     "execution_count": 29,
     "metadata": {},
     "output_type": "execute_result"
    }
   ],
   "source": [
    "model.evaluate(test_x,test_y,batch_size=32)"
   ]
  },
  {
   "cell_type": "code",
   "execution_count": 31,
   "id": "99f13ab0",
   "metadata": {},
   "outputs": [
    {
     "name": "stdout",
     "output_type": "stream",
     "text": [
      "Collecting sklearn\n",
      "  Downloading sklearn-0.0.tar.gz (1.1 kB)\n",
      "  Preparing metadata (setup.py): started\n",
      "  Preparing metadata (setup.py): finished with status 'done'\n",
      "Collecting scikit-learn\n",
      "  Downloading scikit_learn-1.1.1-cp38-cp38-win_amd64.whl (7.3 MB)\n",
      "     ---------------------------------------- 7.3/7.3 MB 1.3 MB/s eta 0:00:00\n",
      "Collecting threadpoolctl>=2.0.0\n",
      "  Downloading threadpoolctl-3.1.0-py3-none-any.whl (14 kB)\n",
      "Collecting scipy>=1.3.2\n",
      "  Downloading scipy-1.8.1-cp38-cp38-win_amd64.whl (36.9 MB)\n",
      "     ---------------------------------------- 36.9/36.9 MB 2.5 MB/s eta 0:00:00\n",
      "Collecting joblib>=1.0.0\n",
      "  Downloading joblib-1.1.0-py2.py3-none-any.whl (306 kB)\n",
      "     -------------------------------------- 307.0/307.0 kB 3.2 MB/s eta 0:00:00\n",
      "Requirement already satisfied: numpy>=1.17.3 in c:\\users\\sjkadam\\anaconda3\\envs\\machine learning\\lib\\site-packages (from scikit-learn->sklearn) (1.22.3)\n",
      "Building wheels for collected packages: sklearn\n",
      "  Building wheel for sklearn (setup.py): started\n",
      "  Building wheel for sklearn (setup.py): finished with status 'done'\n",
      "  Created wheel for sklearn: filename=sklearn-0.0-py2.py3-none-any.whl size=1310 sha256=6cab29ad693e91b5774e62232f2734ee0334bf2765f6f765f83e2499ae156271\n",
      "  Stored in directory: c:\\users\\sjkadam\\appdata\\local\\pip\\cache\\wheels\\22\\0b\\40\\fd3f795caaa1fb4c6cb738bc1f56100be1e57da95849bfc897\n",
      "Successfully built sklearn\n",
      "Installing collected packages: threadpoolctl, scipy, joblib, scikit-learn, sklearn\n",
      "Successfully installed joblib-1.1.0 scikit-learn-1.1.1 scipy-1.8.1 sklearn-0.0 threadpoolctl-3.1.0\n"
     ]
    },
    {
     "name": "stderr",
     "output_type": "stream",
     "text": [
      "WARNING: There was an error checking the latest version of pip.\n"
     ]
    },
    {
     "name": "stdout",
     "output_type": "stream",
     "text": [
      "63/63 [==============================] - 203s 3s/step\n"
     ]
    }
   ],
   "source": [
    "!pip install sklearn\n",
    "from sklearn.metrics import accuracy_score,classification_report,confusion_matrix\n",
    "import numpy as np\n",
    "#predict\n",
    "y_pred=model.predict(test_x)\n",
    "y_pred=np.argmax(y_pred,axis=1)"
   ]
  },
  {
   "cell_type": "code",
   "execution_count": 32,
   "id": "7afeebe1",
   "metadata": {},
   "outputs": [
    {
     "name": "stdout",
     "output_type": "stream",
     "text": [
      "              precision    recall  f1-score   support\n",
      "\n",
      "           0       0.30      0.73      0.43        84\n",
      "           1       1.00      1.00      1.00       200\n",
      "           2       1.00      0.87      0.93       229\n",
      "           3       0.99      0.96      0.98       206\n",
      "           4       1.00      1.00      1.00       200\n",
      "           5       0.86      1.00      0.93       173\n",
      "           6       1.00      1.00      1.00       200\n",
      "           7       1.00      0.47      0.64       422\n",
      "           8       0.47      1.00      0.64        94\n",
      "           9       0.96      1.00      0.98       192\n",
      "\n",
      "    accuracy                           0.86      2000\n",
      "   macro avg       0.86      0.90      0.85      2000\n",
      "weighted avg       0.93      0.86      0.87      2000\n",
      "\n",
      "[[ 61   0   0   0   0   0   0   0  23   0]\n",
      " [  0 200   0   0   0   0   0   0   0   0]\n",
      " [  0   0 200   2   0  27   0   0   0   0]\n",
      " [  0   0   0 198   0   0   0   0   0   8]\n",
      " [  0   0   0   0 200   0   0   0   0   0]\n",
      " [  0   0   0   0   0 173   0   0   0   0]\n",
      " [  0   0   0   0   0   0 200   0   0   0]\n",
      " [139   0   0   0   0   0   0 200  83   0]\n",
      " [  0   0   0   0   0   0   0   0  94   0]\n",
      " [  0   0   0   0   0   0   0   0   0 192]]\n"
     ]
    }
   ],
   "source": [
    "#get classification report\n",
    "print(classification_report(y_pred,test_y))\n",
    "#get confusion matrix\n",
    "print(confusion_matrix(y_pred,test_y))"
   ]
  },
  {
   "cell_type": "code",
   "execution_count": null,
   "id": "f2db77c9",
   "metadata": {},
   "outputs": [],
   "source": []
  }
 ],
 "metadata": {
  "kernelspec": {
   "display_name": "Python 3 (ipykernel)",
   "language": "python",
   "name": "python3"
  },
  "language_info": {
   "codemirror_mode": {
    "name": "ipython",
    "version": 3
   },
   "file_extension": ".py",
   "mimetype": "text/x-python",
   "name": "python",
   "nbconvert_exporter": "python",
   "pygments_lexer": "ipython3",
   "version": "3.8.13"
  }
 },
 "nbformat": 4,
 "nbformat_minor": 5
}
